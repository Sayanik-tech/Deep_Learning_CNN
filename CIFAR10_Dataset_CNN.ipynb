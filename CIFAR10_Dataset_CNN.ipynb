{
  "nbformat": 4,
  "nbformat_minor": 0,
  "metadata": {
    "colab": {
      "name": "CIFAR10_Dataset_CNN.ipynb",
      "provenance": [],
      "collapsed_sections": [],
      "authorship_tag": "ABX9TyOMmyj9/dtfHuFic+JC8/TV",
      "include_colab_link": true
    },
    "kernelspec": {
      "name": "python3",
      "display_name": "Python 3"
    },
    "language_info": {
      "name": "python"
    },
    "accelerator": "GPU"
  },
  "cells": [
    {
      "cell_type": "markdown",
      "metadata": {
        "id": "view-in-github",
        "colab_type": "text"
      },
      "source": [
        "<a href=\"https://colab.research.google.com/github/Sayanik-tech/Deep_Learning_CNN/blob/main/CIFAR10_Dataset_CNN.ipynb\" target=\"_parent\"><img src=\"https://colab.research.google.com/assets/colab-badge.svg\" alt=\"Open In Colab\"/></a>"
      ]
    },
    {
      "cell_type": "code",
      "metadata": {
        "id": "JsD5xKLBgfnX"
      },
      "source": [
        "import tensorflow as tf\n",
        "import numpy as np\n",
        "import pandas as pd \n",
        "import matplotlib.pyplot as plt\n",
        "\n",
        "from tensorflow.keras.layers import Conv2D , MaxPool2D , Flatten , Dense ,  Dropout\n",
        "from tensorflow.keras.models import Sequential\n",
        "from tensorflow.keras.datasets import cifar10"
      ],
      "execution_count": null,
      "outputs": []
    },
    {
      "cell_type": "code",
      "metadata": {
        "id": "TL6sR55q8Zxg"
      },
      "source": [
        "# Load Dataset\n",
        "(x_train, y_train), (x_test, y_test) = cifar10.load_data()"
      ],
      "execution_count": null,
      "outputs": []
    },
    {
      "cell_type": "code",
      "metadata": {
        "colab": {
          "base_uri": "https://localhost:8080/"
        },
        "id": "zXIsMzFN9eyv",
        "outputId": "83e8c27b-50e7-4a11-d1d6-6364658d1aa6"
      },
      "source": [
        "x_train.shape"
      ],
      "execution_count": null,
      "outputs": [
        {
          "output_type": "execute_result",
          "data": {
            "text/plain": [
              "(50000, 32, 32, 3)"
            ]
          },
          "metadata": {},
          "execution_count": 3
        }
      ]
    },
    {
      "cell_type": "code",
      "metadata": {
        "colab": {
          "base_uri": "https://localhost:8080/"
        },
        "id": "c6rRjj1X92y3",
        "outputId": "263768ea-daa8-4283-eaba-40d918499b8b"
      },
      "source": [
        "y_train.shape"
      ],
      "execution_count": null,
      "outputs": [
        {
          "output_type": "execute_result",
          "data": {
            "text/plain": [
              "(50000, 1)"
            ]
          },
          "metadata": {},
          "execution_count": 4
        }
      ]
    },
    {
      "cell_type": "code",
      "metadata": {
        "colab": {
          "base_uri": "https://localhost:8080/"
        },
        "id": "bYCPofRv99j-",
        "outputId": "bc9e7f80-17cf-4fe6-ae90-19a241de80d9"
      },
      "source": [
        "x_test.shape"
      ],
      "execution_count": null,
      "outputs": [
        {
          "output_type": "execute_result",
          "data": {
            "text/plain": [
              "(10000, 32, 32, 3)"
            ]
          },
          "metadata": {},
          "execution_count": 18
        }
      ]
    },
    {
      "cell_type": "code",
      "metadata": {
        "colab": {
          "base_uri": "https://localhost:8080/"
        },
        "id": "4bW9mZwl-Bh_",
        "outputId": "cdb4473f-eb78-442d-9fcb-322932201dce"
      },
      "source": [
        "y_test.shape"
      ],
      "execution_count": null,
      "outputs": [
        {
          "output_type": "execute_result",
          "data": {
            "text/plain": [
              "(10000, 1)"
            ]
          },
          "metadata": {},
          "execution_count": 17
        }
      ]
    },
    {
      "cell_type": "code",
      "metadata": {
        "id": "F-yJlNws-D32"
      },
      "source": [
        "classes = ['airplane','automobile','bird','cat','deer','dog','frog',' horse','ship','truck']"
      ],
      "execution_count": null,
      "outputs": []
    },
    {
      "cell_type": "code",
      "metadata": {
        "colab": {
          "base_uri": "https://localhost:8080/",
          "height": 284
        },
        "id": "wbxWf4Jy-2Fo",
        "outputId": "7593e890-5376-4800-cf9a-f7861f3b4d97"
      },
      "source": [
        "# Visualizing the Images\n",
        "plt.imshow(x_train[10])\n",
        "classes[y_train[10][0]]"
      ],
      "execution_count": null,
      "outputs": [
        {
          "output_type": "execute_result",
          "data": {
            "application/vnd.google.colaboratory.intrinsic+json": {
              "type": "string"
            },
            "text/plain": [
              "'deer'"
            ]
          },
          "metadata": {},
          "execution_count": 23
        },
        {
          "output_type": "display_data",
          "data": {
            "image/png": "[encoded data removed]",
            "text/plain": [
              "<Figure size 432x288 with 1 Axes>"
            ]
          },
          "metadata": {
            "needs_background": "light"
          }
        }
      ]
    },
    {
      "cell_type": "code",
      "metadata": {
        "id": "KaeqlPh7_HXl"
      },
      "source": [
        "# normalize the image\n",
        "x_train , x_test = x_train/255 , x_test/255"
      ],
      "execution_count": null,
      "outputs": []
    },
    {
      "cell_type": "code",
      "metadata": {
        "id": "IgPkiiy-_KyU"
      },
      "source": [
        "## 1. Model Architecture\n",
        "cnn = Sequential()\n",
        "\n",
        "# Conv layer 1\n",
        "cnn.add(Conv2D(20, 3 , activation='relu',kernel_initializer='he_uniform',padding='same'))\n",
        "cnn.add(Conv2D(20, 3 , activation='relu',kernel_initializer='he_uniform',padding='same'))\n",
        "cnn.add(MaxPool2D())\n",
        "\n",
        "# Conv layer 2\n",
        "cnn.add(Conv2D(40, 3 , activation='relu',kernel_initializer='he_uniform',padding='same'))\n",
        "cnn.add(Conv2D(40, 3 , activation='relu',kernel_initializer='he_uniform',padding='same'))\n",
        "cnn.add(MaxPool2D())\n",
        "\n",
        "# Conv layer 3\n",
        "cnn.add(Conv2D(80, 3 , activation='relu',kernel_initializer='he_uniform'))\n",
        "cnn.add(MaxPool2D())\n",
        "\n",
        "#flattening\n",
        "cnn.add(Flatten())\n",
        "\n",
        "# Hidden Layer 3\n",
        "cnn.add(Dense(128, activation= 'relu', kernel_initializer='he_uniform'))\n",
        "cnn.add(Dropout(0.5))\n",
        "\n",
        "# Hidden Layer 3\n",
        "cnn.add(Dense(64, activation= 'sigmoid'))\n",
        "cnn.add(Dropout(0.5))\n",
        "\n",
        "# Hidden Layer 3\n",
        "cnn.add(Dense(32, activation= 'relu', kernel_initializer='he_uniform'))\n",
        "cnn.add(Dropout(0.5))\n",
        "\n",
        "# output\n",
        "cnn.add(Dense(10, activation='softmax'))"
      ],
      "execution_count": null,
      "outputs": []
    },
    {
      "cell_type": "code",
      "metadata": {
        "id": "oLmjv1My4TWc"
      },
      "source": [
        "## 2. Compile\n",
        "cnn.compile(optimizer='adam', loss = tf.keras.losses.SparseCategoricalCrossentropy() , metrics=['accuracy'])"
      ],
      "execution_count": null,
      "outputs": []
    },
    {
      "cell_type": "code",
      "metadata": {
        "colab": {
          "base_uri": "https://localhost:8080/"
        },
        "id": "Z7UTNVAa8i-r",
        "outputId": "ac7e4e90-3a86-4019-e693-2f8a245dbd32"
      },
      "source": [
        "## Fitting Model\n",
        "cnn.fit(x_train , y_train , epochs=50, batch_size=32)"
      ],
      "execution_count": null,
      "outputs": [
        {
          "output_type": "stream",
          "name": "stdout",
          "text": [
            "Epoch 1/50\n",
            "1563/1563 [==============================] - 17s 10ms/step - loss: 2.1405 - accuracy: 0.1566\n",
            "Epoch 2/50\n",
            "1563/1563 [==============================] - 15s 10ms/step - loss: 1.8555 - accuracy: 0.2555\n",
            "Epoch 3/50\n",
            "1563/1563 [==============================] - 15s 10ms/step - loss: 1.6810 - accuracy: 0.3414\n",
            "Epoch 4/50\n",
            "1563/1563 [==============================] - 15s 10ms/step - loss: 1.5258 - accuracy: 0.4147\n",
            "Epoch 5/50\n",
            "1563/1563 [==============================] - 15s 10ms/step - loss: 1.4245 - accuracy: 0.4606\n",
            "Epoch 6/50\n",
            "1563/1563 [==============================] - 15s 10ms/step - loss: 1.3448 - accuracy: 0.5064\n",
            "Epoch 7/50\n",
            "1563/1563 [==============================] - 15s 10ms/step - loss: 1.2716 - accuracy: 0.5471\n",
            "Epoch 8/50\n",
            "1563/1563 [==============================] - 15s 10ms/step - loss: 1.2115 - accuracy: 0.5730\n",
            "Epoch 9/50\n",
            "1563/1563 [==============================] - 15s 10ms/step - loss: 1.1694 - accuracy: 0.5956\n",
            "Epoch 10/50\n",
            "1563/1563 [==============================] - 15s 10ms/step - loss: 1.1218 - accuracy: 0.6127\n",
            "Epoch 11/50\n",
            "1563/1563 [==============================] - 15s 10ms/step - loss: 1.0961 - accuracy: 0.6246\n",
            "Epoch 12/50\n",
            "1563/1563 [==============================] - 15s 10ms/step - loss: 1.0591 - accuracy: 0.6433\n",
            "Epoch 13/50\n",
            "1563/1563 [==============================] - 15s 10ms/step - loss: 1.0344 - accuracy: 0.6515\n",
            "Epoch 14/50\n",
            "1563/1563 [==============================] - 15s 10ms/step - loss: 1.0057 - accuracy: 0.6600\n",
            "Epoch 15/50\n",
            "1563/1563 [==============================] - 15s 10ms/step - loss: 0.9875 - accuracy: 0.6686\n",
            "Epoch 16/50\n",
            "1563/1563 [==============================] - 15s 10ms/step - loss: 0.9597 - accuracy: 0.6800\n",
            "Epoch 17/50\n",
            "1563/1563 [==============================] - 15s 10ms/step - loss: 0.9556 - accuracy: 0.6835\n",
            "Epoch 18/50\n",
            "1563/1563 [==============================] - 15s 10ms/step - loss: 0.9285 - accuracy: 0.6932\n",
            "Epoch 19/50\n",
            "1563/1563 [==============================] - 15s 10ms/step - loss: 0.9238 - accuracy: 0.6970\n",
            "Epoch 20/50\n",
            "1563/1563 [==============================] - 15s 10ms/step - loss: 0.8937 - accuracy: 0.7072\n",
            "Epoch 21/50\n",
            "1563/1563 [==============================] - 15s 10ms/step - loss: 0.8908 - accuracy: 0.7091\n",
            "Epoch 22/50\n",
            "1563/1563 [==============================] - 15s 10ms/step - loss: 0.8795 - accuracy: 0.7110\n",
            "Epoch 23/50\n",
            "1563/1563 [==============================] - 15s 10ms/step - loss: 0.8703 - accuracy: 0.7148\n",
            "Epoch 24/50\n",
            "1563/1563 [==============================] - 15s 9ms/step - loss: 0.8643 - accuracy: 0.7167\n",
            "Epoch 25/50\n",
            "1563/1563 [==============================] - 15s 10ms/step - loss: 0.8536 - accuracy: 0.7225\n",
            "Epoch 26/50\n",
            "1563/1563 [==============================] - 15s 10ms/step - loss: 0.8491 - accuracy: 0.7273\n",
            "Epoch 27/50\n",
            "1563/1563 [==============================] - 15s 10ms/step - loss: 0.8363 - accuracy: 0.7325\n",
            "Epoch 28/50\n",
            "1563/1563 [==============================] - 15s 10ms/step - loss: 0.8488 - accuracy: 0.7287\n",
            "Epoch 29/50\n",
            "1563/1563 [==============================] - 15s 9ms/step - loss: 0.8249 - accuracy: 0.7363\n",
            "Epoch 30/50\n",
            "1563/1563 [==============================] - 15s 10ms/step - loss: 0.8257 - accuracy: 0.7342\n",
            "Epoch 31/50\n",
            "1563/1563 [==============================] - 15s 10ms/step - loss: 0.8140 - accuracy: 0.7400\n",
            "Epoch 32/50\n",
            "1563/1563 [==============================] - 15s 10ms/step - loss: 0.8019 - accuracy: 0.7430\n",
            "Epoch 33/50\n",
            "1563/1563 [==============================] - 15s 10ms/step - loss: 0.8100 - accuracy: 0.7416\n",
            "Epoch 34/50\n",
            "1563/1563 [==============================] - 15s 10ms/step - loss: 0.8018 - accuracy: 0.7473\n",
            "Epoch 35/50\n",
            "1563/1563 [==============================] - 15s 10ms/step - loss: 0.8023 - accuracy: 0.7458\n",
            "Epoch 36/50\n",
            "1563/1563 [==============================] - 15s 10ms/step - loss: 0.7785 - accuracy: 0.7529\n",
            "Epoch 37/50\n",
            "1563/1563 [==============================] - 15s 9ms/step - loss: 0.7826 - accuracy: 0.7558\n",
            "Epoch 38/50\n",
            "1563/1563 [==============================] - 15s 9ms/step - loss: 0.7826 - accuracy: 0.7537\n",
            "Epoch 39/50\n",
            "1563/1563 [==============================] - 15s 10ms/step - loss: 0.7795 - accuracy: 0.7548\n",
            "Epoch 40/50\n",
            "1563/1563 [==============================] - 15s 10ms/step - loss: 0.7691 - accuracy: 0.7582\n",
            "Epoch 41/50\n",
            "1563/1563 [==============================] - 15s 10ms/step - loss: 0.7733 - accuracy: 0.7586\n",
            "Epoch 42/50\n",
            "1563/1563 [==============================] - 15s 10ms/step - loss: 0.7763 - accuracy: 0.7566\n",
            "Epoch 43/50\n",
            "1563/1563 [==============================] - 15s 10ms/step - loss: 0.7736 - accuracy: 0.7589\n",
            "Epoch 44/50\n",
            "1563/1563 [==============================] - 15s 10ms/step - loss: 0.8047 - accuracy: 0.7522\n",
            "Epoch 45/50\n",
            "1563/1563 [==============================] - 15s 10ms/step - loss: 0.7581 - accuracy: 0.7660\n",
            "Epoch 46/50\n",
            "1563/1563 [==============================] - 15s 10ms/step - loss: 0.7686 - accuracy: 0.7641\n",
            "Epoch 47/50\n",
            "1563/1563 [==============================] - 15s 10ms/step - loss: 0.7614 - accuracy: 0.7650\n",
            "Epoch 48/50\n",
            "1563/1563 [==============================] - 15s 10ms/step - loss: 0.7664 - accuracy: 0.7636\n",
            "Epoch 49/50\n",
            "1563/1563 [==============================] - 15s 10ms/step - loss: 0.7893 - accuracy: 0.7605\n",
            "Epoch 50/50\n",
            "1563/1563 [==============================] - 15s 10ms/step - loss: 0.7502 - accuracy: 0.7707\n"
          ]
        },
        {
          "output_type": "execute_result",
          "data": {
            "text/plain": [
              "<keras.callbacks.History at 0x7fa3301c3590>"
            ]
          },
          "metadata": {},
          "execution_count": 45
        }
      ]
    },
    {
      "cell_type": "code",
      "metadata": {
        "colab": {
          "base_uri": "https://localhost:8080/"
        },
        "id": "YVKV1Avs9MtR",
        "outputId": "6a59929c-8ede-45c8-e905-157fea1670e5"
      },
      "source": [
        "# Evaluate test data\n",
        "cnn.evaluate(x_test, y_test)"
      ],
      "execution_count": null,
      "outputs": [
        {
          "output_type": "stream",
          "name": "stdout",
          "text": [
            "313/313 [==============================] - 2s 5ms/step - loss: 0.9492 - accuracy: 0.7302\n"
          ]
        },
        {
          "output_type": "execute_result",
          "data": {
            "text/plain": [
              "[0.9491664171218872, 0.7301999926567078]"
            ]
          },
          "metadata": {},
          "execution_count": 46
        }
      ]
    },
    {
      "cell_type": "code",
      "metadata": {
        "id": "uixqJTl9_kvM"
      },
      "source": [
        "y_pred = cnn.predict(x_test)"
      ],
      "execution_count": null,
      "outputs": []
    },
    {
      "cell_type": "code",
      "metadata": {
        "colab": {
          "base_uri": "https://localhost:8080/"
        },
        "id": "jdEoLBxBAoG6",
        "outputId": "38f39e99-fa85-4125-bce4-e6f0f6411245"
      },
      "source": [
        "y_pred[1]"
      ],
      "execution_count": null,
      "outputs": [
        {
          "output_type": "execute_result",
          "data": {
            "text/plain": [
              "array([6.0741412e-03, 6.9729496e-05, 5.4284696e-06, 8.8921502e-07,\n",
              "       1.9310603e-07, 1.5499526e-09, 8.1082635e-07, 4.2125795e-10,\n",
              "       9.9384719e-01, 1.6963387e-06], dtype=float32)"
            ]
          },
          "metadata": {},
          "execution_count": 51
        }
      ]
    },
    {
      "cell_type": "code",
      "metadata": {
        "colab": {
          "base_uri": "https://localhost:8080/"
        },
        "id": "K9LxBCNdAryB",
        "outputId": "81a3f7c6-1e84-471f-964a-97492a9802cc"
      },
      "source": [
        "np.argmax(y_pred[1])"
      ],
      "execution_count": null,
      "outputs": [
        {
          "output_type": "execute_result",
          "data": {
            "text/plain": [
              "8"
            ]
          },
          "metadata": {},
          "execution_count": 52
        }
      ]
    },
    {
      "cell_type": "code",
      "metadata": {
        "colab": {
          "base_uri": "https://localhost:8080/",
          "height": 284
        },
        "id": "Sod1lCPTEtsp",
        "outputId": "fa9d51f8-7808-48f4-ebd6-75025c5ff7ee"
      },
      "source": [
        "## Prediction \n",
        "image_row = 89\n",
        "plt.imshow(x_test[image_row])\n",
        "classes[y_test[image_row][0]]"
      ],
      "execution_count": null,
      "outputs": [
        {
          "output_type": "execute_result",
          "data": {
            "application/vnd.google.colaboratory.intrinsic+json": {
              "type": "string"
            },
            "text/plain": [
              "'truck'"
            ]
          },
          "metadata": {},
          "execution_count": 61
        },
        {
          "output_type": "display_data",
          "data": {
            "image/png": "[encoded data removed]",
            "text/plain": [
              "<Figure size 432x288 with 1 Axes>"
            ]
          },
          "metadata": {
            "needs_background": "light"
          }
        }
      ]
    },
    {
      "cell_type": "code",
      "metadata": {
        "colab": {
          "base_uri": "https://localhost:8080/",
          "height": 35
        },
        "id": "hy3hn46kE3gJ",
        "outputId": "841a8b49-e141-4063-dad2-1e337717dc7d"
      },
      "source": [
        "## Predicted Data\n",
        "classes[np.argmax(y_pred[image_row])]"
      ],
      "execution_count": null,
      "outputs": [
        {
          "output_type": "execute_result",
          "data": {
            "application/vnd.google.colaboratory.intrinsic+json": {
              "type": "string"
            },
            "text/plain": [
              "'truck'"
            ]
          },
          "metadata": {},
          "execution_count": 62
        }
      ]
    }
  ]
}