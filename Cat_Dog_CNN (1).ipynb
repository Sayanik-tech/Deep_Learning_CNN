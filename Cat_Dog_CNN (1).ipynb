{
 "cells": [
  {
   "cell_type": "code",
   "execution_count": 1,
   "metadata": {
    "id": "2H8Yz5EyUdFe"
   },
   "outputs": [],
   "source": [
    "import numpy as np\n",
    "import pandas as pd\n",
    "import tensorflow as tf\n",
    "from keras.preprocessing.image import ImageDataGenerator"
   ]
  },
  {
   "cell_type": "code",
   "execution_count": 2,
   "metadata": {
    "colab": {
     "base_uri": "https://localhost:8080/",
     "height": 35
    },
    "id": "puw8CUDgmD2h",
    "outputId": "02a3562d-79b2-456e-a05f-c48826d2e54f"
   },
   "outputs": [
    {
     "data": {
      "text/plain": [
       "'2.6.0'"
      ]
     },
     "execution_count": 2,
     "metadata": {},
     "output_type": "execute_result"
    }
   ],
   "source": [
    "tf.__version__"
   ]
  },
  {
   "cell_type": "markdown",
   "metadata": {
    "id": "NF3_LxWzqDCU"
   },
   "source": [
    "**Data Preprocessing**"
   ]
  },
  {
   "cell_type": "markdown",
   "metadata": {
    "id": "E9CLddRiqHN9"
   },
   "source": [
    "Preprocessing The Training Data set"
   ]
  },
  {
   "cell_type": "code",
   "execution_count": 4,
   "metadata": {
    "id": "GaZWooBPqHAs"
   },
   "outputs": [
    {
     "name": "stdout",
     "output_type": "stream",
     "text": [
      "Found 8000 images belonging to 2 classes.\n"
     ]
    }
   ],
   "source": [
    "train_datagen = ImageDataGenerator(\n",
    "        rescale=1./255,\n",
    "        shear_range=0.2,\n",
    "        zoom_range=0.2,\n",
    "        horizontal_flip=True)\n",
    "training_set = train_datagen.flow_from_directory(\n",
    "        'A:/Udemy_ML_Training/Machine Learning A-Z (Codes and Datasets)/Part 8 - Deep Learning/Section 40 - Convolutional Neural Networks (CNN)/Python/Section 40 - Convolutional Neural Networks (CNN)/dataset/training_set',\n",
    "        target_size=(64, 64),\n",
    "        batch_size=32,\n",
    "        class_mode='binary')"
   ]
  },
  {
   "cell_type": "markdown",
   "metadata": {
    "id": "CIDj2fEjsN84"
   },
   "source": [
    "Preprocessing the Test Data Set"
   ]
  },
  {
   "cell_type": "code",
   "execution_count": 5,
   "metadata": {
    "id": "NfYUpkaKmkTv"
   },
   "outputs": [
    {
     "name": "stdout",
     "output_type": "stream",
     "text": [
      "Found 2000 images belonging to 2 classes.\n"
     ]
    }
   ],
   "source": [
    "test_datagen = ImageDataGenerator(rescale=1./255)\n",
    "test_set = test_datagen.flow_from_directory(\n",
    "        'A:/Udemy_ML_Training/Machine Learning A-Z (Codes and Datasets)/Part 8 - Deep Learning/Section 40 - Convolutional Neural Networks (CNN)/Python/Section 40 - Convolutional Neural Networks (CNN)/dataset/test_set',\n",
    "        target_size=(64, 64),\n",
    "        batch_size=32,\n",
    "        class_mode='binary')"
   ]
  },
  {
   "cell_type": "markdown",
   "metadata": {
    "id": "8xaPZkrOt5Zt"
   },
   "source": [
    "**Building CNN**"
   ]
  },
  {
   "cell_type": "markdown",
   "metadata": {
    "id": "7k9ZIEe6uWNt"
   },
   "source": [
    "Initializing CNN"
   ]
  },
  {
   "cell_type": "code",
   "execution_count": 6,
   "metadata": {
    "id": "8BO6IdfguZYc"
   },
   "outputs": [],
   "source": [
    "from tensorflow.keras.models import Sequential\n",
    "from tensorflow.keras.layers import Conv2D\n",
    "from tensorflow.keras.layers import MaxPool2D\n",
    "from tensorflow.keras.layers import Flatten\n",
    "from tensorflow.keras.layers import Dense\n",
    "cnn = Sequential()"
   ]
  },
  {
   "cell_type": "markdown",
   "metadata": {
    "id": "abkutu6pt-kU"
   },
   "source": [
    "1.Convolution"
   ]
  },
  {
   "cell_type": "code",
   "execution_count": 7,
   "metadata": {
    "id": "_NpSdAYxuDDp"
   },
   "outputs": [],
   "source": [
    "cnn.add(Conv2D(filters = 32 , kernel_size= 3 , activation = 'relu' , input_shape = [64,64,3]))"
   ]
  },
  {
   "cell_type": "markdown",
   "metadata": {
    "id": "jSn1cf1GyLh1"
   },
   "source": [
    "2.Pooling"
   ]
  },
  {
   "cell_type": "code",
   "execution_count": 8,
   "metadata": {
    "id": "4nN7M895wt19"
   },
   "outputs": [],
   "source": [
    "cnn.add(MaxPool2D(pool_size= 2, strides= 2))"
   ]
  },
  {
   "cell_type": "markdown",
   "metadata": {
    "id": "Rok4l4DQzNZq"
   },
   "source": [
    "Adding a convolution Layer"
   ]
  },
  {
   "cell_type": "code",
   "execution_count": 9,
   "metadata": {
    "id": "mqyjx6L3y4BM"
   },
   "outputs": [],
   "source": [
    "cnn.add(Conv2D(filters = 64 , kernel_size= 3 , activation = 'relu'))\n",
    "cnn.add(MaxPool2D(pool_size= 2, strides= 2))"
   ]
  },
  {
   "cell_type": "markdown",
   "metadata": {
    "id": "Ng46xECxzUY7"
   },
   "source": [
    "3.**Flattening**"
   ]
  },
  {
   "cell_type": "code",
   "execution_count": 10,
   "metadata": {
    "id": "CNwQha-7zXZL"
   },
   "outputs": [],
   "source": [
    "cnn.add(Flatten())"
   ]
  },
  {
   "cell_type": "markdown",
   "metadata": {
    "id": "ULZ1A-cO0ify"
   },
   "source": [
    "4.**Full Connection**"
   ]
  },
  {
   "cell_type": "code",
   "execution_count": 11,
   "metadata": {
    "id": "V17PIYQl0l_S"
   },
   "outputs": [],
   "source": [
    "cnn.add(Dense(128 , activation = 'relu'))"
   ]
  },
  {
   "cell_type": "markdown",
   "metadata": {
    "id": "_FMkifxO02sG"
   },
   "source": [
    "5**.Output Layer**"
   ]
  },
  {
   "cell_type": "code",
   "execution_count": 12,
   "metadata": {
    "id": "wahZrAOsz62E"
   },
   "outputs": [],
   "source": [
    "cnn.add(Dense(1 , activation = 'sigmoid'))"
   ]
  },
  {
   "cell_type": "markdown",
   "metadata": {
    "id": "QbkjHRk-1TxG"
   },
   "source": [
    "**Training The CNN**"
   ]
  },
  {
   "cell_type": "markdown",
   "metadata": {
    "id": "-Defk_oI1ay3"
   },
   "source": [
    "Compiling the CNN"
   ]
  },
  {
   "cell_type": "code",
   "execution_count": 13,
   "metadata": {
    "id": "kUIOEUYm1YPJ"
   },
   "outputs": [],
   "source": [
    "cnn.compile(optimizer='adam',loss='binary_crossentropy',metrics=['accuracy'])"
   ]
  },
  {
   "cell_type": "markdown",
   "metadata": {
    "id": "dbLwffPr3CBC"
   },
   "source": [
    "Training teh CNN and Evaluating it on Test Set at the same time"
   ]
  },
  {
   "cell_type": "code",
   "execution_count": 14,
   "metadata": {
    "id": "wskFnXYf3AkI"
   },
   "outputs": [
    {
     "name": "stdout",
     "output_type": "stream",
     "text": [
      "Epoch 1/25\n",
      "250/250 [==============================] - 304s 1s/step - loss: 0.6764 - accuracy: 0.5727 - val_loss: 0.6658 - val_accuracy: 0.5980\n",
      "Epoch 2/25\n",
      "250/250 [==============================] - 74s 294ms/step - loss: 0.6085 - accuracy: 0.6693 - val_loss: 0.5547 - val_accuracy: 0.7250\n",
      "Epoch 3/25\n",
      "250/250 [==============================] - 74s 295ms/step - loss: 0.5569 - accuracy: 0.7193 - val_loss: 0.5158 - val_accuracy: 0.7440\n",
      "Epoch 4/25\n",
      "250/250 [==============================] - 71s 285ms/step - loss: 0.5176 - accuracy: 0.7414 - val_loss: 0.5066 - val_accuracy: 0.7545\n",
      "Epoch 5/25\n",
      "250/250 [==============================] - 71s 285ms/step - loss: 0.4917 - accuracy: 0.7592 - val_loss: 0.4863 - val_accuracy: 0.7680\n",
      "Epoch 6/25\n",
      "250/250 [==============================] - 72s 288ms/step - loss: 0.4757 - accuracy: 0.7673 - val_loss: 0.4641 - val_accuracy: 0.7830\n",
      "Epoch 7/25\n",
      "250/250 [==============================] - 72s 287ms/step - loss: 0.4525 - accuracy: 0.7866 - val_loss: 0.4567 - val_accuracy: 0.7885\n",
      "Epoch 8/25\n",
      "250/250 [==============================] - 72s 286ms/step - loss: 0.4373 - accuracy: 0.7955 - val_loss: 0.4685 - val_accuracy: 0.7825\n",
      "Epoch 9/25\n",
      "250/250 [==============================] - 73s 290ms/step - loss: 0.4154 - accuracy: 0.8058 - val_loss: 0.4469 - val_accuracy: 0.7860\n",
      "Epoch 10/25\n",
      "250/250 [==============================] - 72s 287ms/step - loss: 0.4083 - accuracy: 0.8130 - val_loss: 0.4508 - val_accuracy: 0.7970\n",
      "Epoch 11/25\n",
      "250/250 [==============================] - 72s 287ms/step - loss: 0.3809 - accuracy: 0.8289 - val_loss: 0.4460 - val_accuracy: 0.8100\n",
      "Epoch 12/25\n",
      "250/250 [==============================] - 83s 331ms/step - loss: 0.3682 - accuracy: 0.8357 - val_loss: 0.4458 - val_accuracy: 0.8050\n",
      "Epoch 13/25\n",
      "250/250 [==============================] - 76s 305ms/step - loss: 0.3482 - accuracy: 0.8466 - val_loss: 0.4293 - val_accuracy: 0.8080\n",
      "Epoch 14/25\n",
      "250/250 [==============================] - 84s 337ms/step - loss: 0.3318 - accuracy: 0.8575 - val_loss: 0.4677 - val_accuracy: 0.7910\n",
      "Epoch 15/25\n",
      "250/250 [==============================] - 81s 325ms/step - loss: 0.3269 - accuracy: 0.8531 - val_loss: 0.4612 - val_accuracy: 0.8050\n",
      "Epoch 16/25\n",
      "250/250 [==============================] - 89s 357ms/step - loss: 0.3035 - accuracy: 0.8666 - val_loss: 0.4328 - val_accuracy: 0.8205\n",
      "Epoch 17/25\n",
      "250/250 [==============================] - 89s 357ms/step - loss: 0.2912 - accuracy: 0.8730 - val_loss: 0.4658 - val_accuracy: 0.8095\n",
      "Epoch 18/25\n",
      "250/250 [==============================] - 84s 336ms/step - loss: 0.2795 - accuracy: 0.8769 - val_loss: 0.4661 - val_accuracy: 0.8160\n",
      "Epoch 19/25\n",
      "250/250 [==============================] - 94s 374ms/step - loss: 0.2632 - accuracy: 0.8901 - val_loss: 0.4457 - val_accuracy: 0.8060\n",
      "Epoch 20/25\n",
      "250/250 [==============================] - 84s 334ms/step - loss: 0.2440 - accuracy: 0.8972 - val_loss: 0.4762 - val_accuracy: 0.8145\n",
      "Epoch 21/25\n",
      "250/250 [==============================] - 83s 331ms/step - loss: 0.2423 - accuracy: 0.8979 - val_loss: 0.5020 - val_accuracy: 0.8170\n",
      "Epoch 22/25\n",
      "250/250 [==============================] - 84s 336ms/step - loss: 0.2290 - accuracy: 0.9044 - val_loss: 0.5065 - val_accuracy: 0.8150\n",
      "Epoch 23/25\n",
      "250/250 [==============================] - 85s 339ms/step - loss: 0.2189 - accuracy: 0.9103 - val_loss: 0.5224 - val_accuracy: 0.8120\n",
      "Epoch 24/25\n",
      "250/250 [==============================] - 85s 340ms/step - loss: 0.2164 - accuracy: 0.9110 - val_loss: 0.5399 - val_accuracy: 0.7980\n",
      "Epoch 25/25\n",
      "250/250 [==============================] - 71s 282ms/step - loss: 0.1826 - accuracy: 0.9276 - val_loss: 0.6007 - val_accuracy: 0.7905\n"
     ]
    },
    {
     "data": {
      "text/plain": [
       "<keras.callbacks.History at 0x2b0522e3c70>"
      ]
     },
     "execution_count": 14,
     "metadata": {},
     "output_type": "execute_result"
    }
   ],
   "source": [
    "cnn.fit(x = training_set, validation_data= test_set,epochs = 25)                                                                                                                                      "
   ]
  },
  {
   "cell_type": "markdown",
   "metadata": {
    "id": "h33FHLoh8CwU"
   },
   "source": [
    "**Prediction**"
   ]
  },
  {
   "cell_type": "code",
   "execution_count": 54,
   "metadata": {
    "id": "QRNVP2Rm8Oir"
   },
   "outputs": [],
   "source": [
    "from keras.preprocessing import image\n",
    "test_image = image.load_img('A:/Udemy_ML_Training\\Machine Learning A-Z (Codes and Datasets)/Part 8 - Deep Learning/Section 40 - Convolutional Neural Networks (CNN)/Python/Section 40 - Convolutional Neural Networks (CNN)/dataset/single_prediction/cat_or_dog_999999999.jpg', target_size = (64,64))\n",
    "test_image = image.img_to_array(test_image)\n",
    "test_image = np.expand_dims(test_image,axis = 0)\n",
    "result = cnn.predict(test_image)\n",
    "training_set.class_indices\n",
    "if result[0][0] == 1:\n",
    "  prediction = 'Dog'\n",
    "else:\n",
    "  prediction = 'Cat' "
   ]
  },
  {
   "cell_type": "code",
   "execution_count": 55,
   "metadata": {
    "id": "Cw7h272x94S8"
   },
   "outputs": [
    {
     "name": "stdout",
     "output_type": "stream",
     "text": [
      "Dog\n"
     ]
    }
   ],
   "source": [
    "print(prediction)"
   ]
  },
  {
   "cell_type": "code",
   "execution_count": null,
   "metadata": {},
   "outputs": [],
   "source": []
  },
  {
   "cell_type": "code",
   "execution_count": null,
   "metadata": {},
   "outputs": [],
   "source": []
  }
 ],
 "metadata": {
  "accelerator": "GPU",
  "colab": {
   "collapsed_sections": [],
   "name": "Cat_Dog_CNN.ipynb",
   "provenance": []
  },
  "kernelspec": {
   "display_name": "Python 3",
   "language": "python",
   "name": "python3"
  },
  "language_info": {
   "codemirror_mode": {
    "name": "ipython",
    "version": 3
   },
   "file_extension": ".py",
   "mimetype": "text/x-python",
   "name": "python",
   "nbconvert_exporter": "python",
   "pygments_lexer": "ipython3",
   "version": "3.8.5"
  }
 },
 "nbformat": 4,
 "nbformat_minor": 1
}
